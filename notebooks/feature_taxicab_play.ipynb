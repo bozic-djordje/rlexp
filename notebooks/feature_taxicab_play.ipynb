{
 "cells": [
  {
   "cell_type": "markdown",
   "id": "0e4607ae",
   "metadata": {},
   "source": [
    "# Feature Taxicab – interactive play  \n",
    "  \n",
    "This notebook lets you **play the customised “Feature Taxicab” environment** that you pasted.  \n",
    "At each step you’ll be asked for an action:\n",
    "\n",
    "| index | meaning  |\n",
    "|-------|----------|\n",
    "| 0     | **UP**   |\n",
    "| 1     | **DOWN** |\n",
    "| 2     | **LEFT** |\n",
    "| 3     | **RIGHT**|\n",
    "| 4     | **PICK UP** |\n",
    "| 5     | **DROP OFF** |\n",
    "\n",
    "The notebook will  \n",
    "* execute the action,  \n",
    "* print the new reward & raw observation, and  \n",
    "* display the rendered frame.\n",
    "\n",
    "> **Prerequisites**  \n",
    "> * `feature_taxicab.py`, `utils.py`, the `assets/` folder and your YAML hyper‑parameter file must live in the **same directory** as this notebook.  \n",
    "> * Python ≥ 3.9 with the packages in the first code‑cell installed.\n"
   ]
  },
  {
   "cell_type": "code",
   "execution_count": 1,
   "id": "c2be1e2f",
   "metadata": {},
   "outputs": [],
   "source": [
    "# ------------------------------------------------------------\n",
    "# (Optional) install runtime dependencies\n",
    "# ------------------------------------------------------------\n",
    "# If you are missing any of these packages, remove the leading\n",
    "# '#' and run the cell once.\n",
    "#\n",
    "# !pip install -q gymnasium numpy opencv-python-headless matplotlib pyyaml\n"
   ]
  },
  {
   "cell_type": "code",
   "execution_count": 2,
   "id": "faab382f",
   "metadata": {},
   "outputs": [],
   "source": [
    "# ------------------------------------------------------------\n",
    "# Imports & utility helpers\n",
    "# ------------------------------------------------------------\n",
    "import os, yaml, numpy as np, cv2, matplotlib.pyplot as plt\n",
    "from IPython.display import clear_output\n",
    "import time\n",
    "\n",
    "# Adjust the import below if your python file has a different name\n",
    "from envs.taxicab.feature_taxicab import FeatureTaxicab, DEFAULT_FEATURES\n",
    "from utils import setup_artefact_paths\n",
    "\n",
    "# Helper to display a rendered frame inline\n",
    "def show_frame(img):\n",
    "    plt.figure(figsize=(4,4))\n",
    "    # convert BGR (OpenCV) ➜ RGB (matplotlib)\n",
    "    plt.imshow(cv2.cvtColor(img, cv2.COLOR_BGR2RGB))\n",
    "    plt.axis('off')\n",
    "    plt.show()\n"
   ]
  },
  {
   "cell_type": "code",
   "execution_count": 3,
   "id": "3338a57c",
   "metadata": {},
   "outputs": [
    {
     "name": "stdout",
     "output_type": "stream",
     "text": [
      "Environment ready ✔\n"
     ]
    }
   ],
   "source": [
    "# ------------------------------------------------------------\n",
    "# Load hyper‑parameters & create the environment\n",
    "# ------------------------------------------------------------\n",
    "parent_dir = os.path.dirname(os.getcwd())\n",
    "# Fill yaml_path as desired, the rest should work as is.\n",
    "yaml_path = os.path.join(parent_dir, \"envs\", \"taxicab\", \"configs\", \"taxicab.yaml\")\n",
    "\n",
    "script_path = os.path.join(os.getcwd(), 'feature_taxicab_play.ipynb')\n",
    "store_path, _ = setup_artefact_paths(script_path)\n",
    "\n",
    "with open(yaml_path, 'r') as f:\n",
    "    hparams = yaml.safe_load(f)\n",
    "\n",
    "origin_ind, dest_ind = 1, 2  # same choice as in the sample script\n",
    "\n",
    "env = FeatureTaxicab(\n",
    "    hparams=hparams,\n",
    "    location_features=DEFAULT_FEATURES,\n",
    "    origin_ind=origin_ind,\n",
    "    dest_ind=dest_ind,\n",
    "    store_path=store_path\n",
    ")\n",
    "\n",
    "print('Environment ready ✔')\n"
   ]
  },
  {
   "cell_type": "code",
   "execution_count": 4,
   "id": "450011d7",
   "metadata": {},
   "outputs": [
    {
     "data": {
      "image/png": "[encoded data removed]",
      "text/plain": [
       "<Figure size 400x400 with 1 Axes>"
      ]
     },
     "metadata": {},
     "output_type": "display_data"
    },
    {
     "name": "stdout",
     "output_type": "stream",
     "text": [
      "Step: 11\n",
      "Return so far: -11\n",
      "Reward from previous action: -1\n",
      "Current observation: [5 8 1 0 0 0 0 0 0 0 0]\n",
      "Choose action – 0:UP  1:DOWN  2:LEFT  3:RIGHT  4:PICK UP  5:DROP OFF\n"
     ]
    },
    {
     "ename": "KeyboardInterrupt",
     "evalue": "Interrupted by user",
     "output_type": "error",
     "traceback": [
      "\u001b[0;31m---------------------------------------------------------------------------\u001b[0m",
      "\u001b[0;31mKeyboardInterrupt\u001b[0m                         Traceback (most recent call last)",
      "Cell \u001b[0;32mIn[4], line 25\u001b[0m\n\u001b[1;32m     23\u001b[0m \u001b[38;5;66;03m# -------- get action ------------------\u001b[39;00m\n\u001b[1;32m     24\u001b[0m \u001b[38;5;28;01mtry\u001b[39;00m:\n\u001b[0;32m---> 25\u001b[0m     action \u001b[38;5;241m=\u001b[39m \u001b[38;5;28mint\u001b[39m(\u001b[38;5;28;43minput\u001b[39;49m\u001b[43m(\u001b[49m\u001b[38;5;124;43m\"\u001b[39;49m\u001b[38;5;124;43mYour action index: \u001b[39;49m\u001b[38;5;124;43m\"\u001b[39;49m\u001b[43m)\u001b[49m\u001b[38;5;241m.\u001b[39mstrip())\n\u001b[1;32m     26\u001b[0m     \u001b[38;5;28;01mif\u001b[39;00m action \u001b[38;5;129;01mnot\u001b[39;00m \u001b[38;5;129;01min\u001b[39;00m \u001b[38;5;28mrange\u001b[39m(\u001b[38;5;241m6\u001b[39m):\n\u001b[1;32m     27\u001b[0m         \u001b[38;5;28;01mraise\u001b[39;00m \u001b[38;5;167;01mValueError\u001b[39;00m\n",
      "File \u001b[0;32m~/miniconda3/envs/rlexp/lib/python3.11/site-packages/ipykernel/kernelbase.py:1282\u001b[0m, in \u001b[0;36mKernel.raw_input\u001b[0;34m(self, prompt)\u001b[0m\n\u001b[1;32m   1280\u001b[0m     msg \u001b[38;5;241m=\u001b[39m \u001b[38;5;124m\"\u001b[39m\u001b[38;5;124mraw_input was called, but this frontend does not support input requests.\u001b[39m\u001b[38;5;124m\"\u001b[39m\n\u001b[1;32m   1281\u001b[0m     \u001b[38;5;28;01mraise\u001b[39;00m StdinNotImplementedError(msg)\n\u001b[0;32m-> 1282\u001b[0m \u001b[38;5;28;01mreturn\u001b[39;00m \u001b[38;5;28;43mself\u001b[39;49m\u001b[38;5;241;43m.\u001b[39;49m\u001b[43m_input_request\u001b[49m\u001b[43m(\u001b[49m\n\u001b[1;32m   1283\u001b[0m \u001b[43m    \u001b[49m\u001b[38;5;28;43mstr\u001b[39;49m\u001b[43m(\u001b[49m\u001b[43mprompt\u001b[49m\u001b[43m)\u001b[49m\u001b[43m,\u001b[49m\n\u001b[1;32m   1284\u001b[0m \u001b[43m    \u001b[49m\u001b[38;5;28;43mself\u001b[39;49m\u001b[38;5;241;43m.\u001b[39;49m\u001b[43m_parent_ident\u001b[49m\u001b[43m[\u001b[49m\u001b[38;5;124;43m\"\u001b[39;49m\u001b[38;5;124;43mshell\u001b[39;49m\u001b[38;5;124;43m\"\u001b[39;49m\u001b[43m]\u001b[49m\u001b[43m,\u001b[49m\n\u001b[1;32m   1285\u001b[0m \u001b[43m    \u001b[49m\u001b[38;5;28;43mself\u001b[39;49m\u001b[38;5;241;43m.\u001b[39;49m\u001b[43mget_parent\u001b[49m\u001b[43m(\u001b[49m\u001b[38;5;124;43m\"\u001b[39;49m\u001b[38;5;124;43mshell\u001b[39;49m\u001b[38;5;124;43m\"\u001b[39;49m\u001b[43m)\u001b[49m\u001b[43m,\u001b[49m\n\u001b[1;32m   1286\u001b[0m \u001b[43m    \u001b[49m\u001b[43mpassword\u001b[49m\u001b[38;5;241;43m=\u001b[39;49m\u001b[38;5;28;43;01mFalse\u001b[39;49;00m\u001b[43m,\u001b[49m\n\u001b[1;32m   1287\u001b[0m \u001b[43m\u001b[49m\u001b[43m)\u001b[49m\n",
      "File \u001b[0;32m~/miniconda3/envs/rlexp/lib/python3.11/site-packages/ipykernel/kernelbase.py:1325\u001b[0m, in \u001b[0;36mKernel._input_request\u001b[0;34m(self, prompt, ident, parent, password)\u001b[0m\n\u001b[1;32m   1322\u001b[0m \u001b[38;5;28;01mexcept\u001b[39;00m \u001b[38;5;167;01mKeyboardInterrupt\u001b[39;00m:\n\u001b[1;32m   1323\u001b[0m     \u001b[38;5;66;03m# re-raise KeyboardInterrupt, to truncate traceback\u001b[39;00m\n\u001b[1;32m   1324\u001b[0m     msg \u001b[38;5;241m=\u001b[39m \u001b[38;5;124m\"\u001b[39m\u001b[38;5;124mInterrupted by user\u001b[39m\u001b[38;5;124m\"\u001b[39m\n\u001b[0;32m-> 1325\u001b[0m     \u001b[38;5;28;01mraise\u001b[39;00m \u001b[38;5;167;01mKeyboardInterrupt\u001b[39;00m(msg) \u001b[38;5;28;01mfrom\u001b[39;00m\u001b[38;5;250m \u001b[39m\u001b[38;5;28;01mNone\u001b[39;00m\n\u001b[1;32m   1326\u001b[0m \u001b[38;5;28;01mexcept\u001b[39;00m \u001b[38;5;167;01mException\u001b[39;00m:\n\u001b[1;32m   1327\u001b[0m     \u001b[38;5;28mself\u001b[39m\u001b[38;5;241m.\u001b[39mlog\u001b[38;5;241m.\u001b[39mwarning(\u001b[38;5;124m\"\u001b[39m\u001b[38;5;124mInvalid Message:\u001b[39m\u001b[38;5;124m\"\u001b[39m, exc_info\u001b[38;5;241m=\u001b[39m\u001b[38;5;28;01mTrue\u001b[39;00m)\n",
      "\u001b[0;31mKeyboardInterrupt\u001b[0m: Interrupted by user"
     ]
    }
   ],
   "source": [
    "# ---- initial reset ----\n",
    "obs, _ = env.reset()\n",
    "step = 0\n",
    "total_reward = 0\n",
    "last_reward = None          # stores reward from previous step\n",
    "terminated = truncated = False\n",
    "\n",
    "while not (terminated or truncated):\n",
    "    clear_output(wait=True)\n",
    "\n",
    "    # -------- show current frame ----------\n",
    "    frame = env.render_frame()\n",
    "    show_frame(frame)\n",
    "\n",
    "    # -------- show textual info -----------\n",
    "    print(f\"Step: {step}\")\n",
    "    print(f\"Return so far: {total_reward}\")\n",
    "    if last_reward is not None:\n",
    "        print(f\"Reward from previous action: {last_reward}\")\n",
    "    print(f\"Current observation: {obs}\")\n",
    "    print(\"Choose action – 0:UP  1:DOWN  2:LEFT  3:RIGHT  4:PICK UP  5:DROP OFF\")\n",
    "\n",
    "    # -------- get action ------------------\n",
    "    try:\n",
    "        action = int(input(\"Your action index: \").strip())\n",
    "        if action not in range(6):\n",
    "            raise ValueError\n",
    "    except ValueError:\n",
    "        print(\"❌  Please enter an integer 0‑5.\")\n",
    "        time.sleep(1)        # let the user read the error\n",
    "        continue\n",
    "\n",
    "    # -------- environment step ------------\n",
    "    next_obs, reward, terminated, truncated, _ = env.step(action)\n",
    "\n",
    "    # update bookkeeping\n",
    "    last_reward = reward\n",
    "    total_reward += reward\n",
    "    obs = next_obs\n",
    "    step += 1\n",
    "\n",
    "# final display\n",
    "clear_output(wait=True)\n",
    "frame = env.render_frame()\n",
    "show_frame(frame)\n",
    "print(\"Episode finished.\")\n",
    "print(f\"Total steps: {step}   Return: {total_reward}\")"
   ]
  }
 ],
 "metadata": {
  "kernelspec": {
   "display_name": "rlexp",
   "language": "python",
   "name": "python3"
  },
  "language": "python",
  "language_info": {
   "codemirror_mode": {
    "name": "ipython",
    "version": 3
   },
   "file_extension": ".py",
   "mimetype": "text/x-python",
   "name": "python",
   "nbconvert_exporter": "python",
   "pygments_lexer": "ipython3",
   "version": "3.11.6"
  }
 },
 "nbformat": 4,
 "nbformat_minor": 5
}
